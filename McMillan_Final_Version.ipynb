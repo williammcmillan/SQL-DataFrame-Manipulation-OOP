{
 "cells": [
  {
   "cell_type": "markdown",
   "metadata": {},
   "source": [
    "# Module 2 Summative Lab\n",
    "\n",
    "## Introduction\n",
    "\n",
    "For today's section, we're going to work on a single big lab to apply everything we've learned in Module 2!\n",
    "\n",
    "## About This Lab\n",
    "\n",
    "A quick note before getting started--this lab isn't like other labs you seen so far. This lab is meant to take ~8 hours to complete, so it's much longer and more challenging that the average labs you've seen so far. If you feel like this lab is challenging or that you might be struggling a bit, don't fret--that's by design! With everything we've learned about Web Scraping, APIs, and Databases, the best way to test our knowledge of it is to build something substantial! \n",
    "\n",
    "## The Project\n",
    "\n",
    "In this lab, we're going to make use of everything we've learned about APIs, databases, and Object-Oriented Programming to **_Extract, Transform, and Load_** (or **_ETL_**, for short) some data from a SQL database into a MongoDB Database. \n",
    "\n",
    "You'll find a database containing information about soccer teams and the matches they've played in the file `database.sqlite`. For this project, our goal is to get the data we think is important from this SQL database, do some calculations and data transformation, and then store everything in a MongoDB database. \n",
    "\n",
    "Let's get into the specifics of this project.\n",
    "\n",
    "### The Goal\n",
    "\n",
    "Start by examining the data dictionary for the SQL database we'll be working with, which comes from this [kaggle page](https://www.kaggle.com/laudanum/footballdelphi).  Familiarize yourself with the tables it contains, and what each column means. We'll be using this database to get data on each soccer team, calculate some summary statistics, and then store each in a MongoDB database. \n",
    "\n",
    "Upon completion of this lab, each unique team in this dataset should have a record in the MongoDB instance containing the following information:\n",
    "\n",
    "* The name of the team\n",
    "* The total number of goals scored by the team during the 2011 season\n",
    "* The total number of wins the team earned during the 2011 season\n",
    "* A histogram visualization of the team's wins and losses for the 2011 season (store the visualization directly)\n",
    "* The team's win percentage on days where it was raining during games in the 2011 season. \n",
    "\n",
    "#### Getting the Weather Data\n",
    "\n",
    "Note that for this last calculation, you'll need to figure out if it was raining or not during the game. The database itself does not contain this information, but it does contain the date on which the game was played. For this, you'll need to use the [DarkSky API](https://darksky.net/dev) to get the historical weather data for that day. Note that each game is played in a different location, and this information is not contained in our SQL database. However, the teams in this database are largely german, so go ahead and just use the weather in Berlin, Germany as a proxy for this information. If it was raining in Berlin on the day the game was played, count that as rain game--**_you do not need to try and figure out the actual weather at each game's location, because we don't have that information!_**\n",
    "\n",
    "#### NOTE: The DarkSky API is limited to 1000 free API calls a day, so be sure to test your model on very small samples. Otherwise, you'll hit the rate limit!\n",
    "\n",
    "## Project Architecture\n",
    "\n",
    "Unlike previous labs, this lab is more open-ended, and will require you to make design decisions and plan out your strategy for building a system with this many working parts. However, **_using Object-Oriented Programming is a requirement for this project--you must create at least 2 separate, well structured classes in your solution!_** Although it may seem easier to \"just start coding\", this is a classic beginner's mistake. Instead, think about separating out the different functionalities you'll need to reach your goal, and then build classes to handle each. For instance, at minimum, you'll need to:\n",
    "\n",
    "* Query the SQL database\n",
    "* Calculate summary statistics\n",
    "* Get the weather data from the DarkSky API\n",
    "* Load the data into MongoDB\n",
    "\n",
    "We **_strongly recommend_** you consider creating separate classes for handling at least some of these of these tasks.  Be sure to plan the inputs, outputs, and methods for each class before you begin coding! \n",
    "\n",
    "**_NOTE:_** We have provided some empty classes below. You are welcome to delete them and use a different architecture for this project if you so choose.  You do not have to use each of them, they are just there to give you an idea of what you could sorts of classes you may want to consider using.\n",
    "\n",
    "### Rapid Prototyping and Refactoring\n",
    "\n",
    "It's totally okay to try to get a task working without using OOP. For instance, when experimenting with the DarkSky API for getting historical weather data, it makes sense to just write the code in the cells and rapidly iterate until you get it all working. However, once you get it working, you're not done--you should then **_Refactor_** your code into functions or classes to make your code more modular, reusable, understandable, and maintainable! \n",
    "\n",
    "In short--do what you need to do to get each separate piece of functionality working, and then refactor it into a class after you've figured it out!\n",
    "\n",
    "### Some Final Advice\n",
    "\n",
    "You haven't built anything this big or complex thus far, so you may not yet fully realize how much trial and error goes into it. If your code keeps breaking, resist the urge to get frustrated, and just keep working. Software development is an iterative process!  No one writes perfect code that works the first time for something this involved. You're going to run into _a lot_ of small errors in this project, right up until the point where it just works, and then you're done! However, you can reduce these errors by planning out your code, and thinking about how all of the pieces fit together before you begin coding. Once you have some basic understanding of how it all will work, then you'll know what you need to build, and then all that is left is to build it!\n",
    "\n",
    "In short:\n",
    "\n",
    "* Plan ahead--you'll thank yourself later!\n",
    "* Errors and broken code aren't bad, they're normal. \n",
    "* Keep working, and stay confident--you can do this!\n",
    "\n",
    "Good luck--we look forward to seeing your completed project!"
   ]
  },
  {
   "cell_type": "code",
   "execution_count": 1,
   "metadata": {},
   "outputs": [],
   "source": [
    "import pandas as pd\n",
    "import sqlite3\n",
    "conn = sqlite3.connect('./database.sqlite')\n",
    "c = conn.cursor()"
   ]
  },
  {
   "cell_type": "code",
   "execution_count": 2,
   "metadata": {},
   "outputs": [
    {
     "data": {
      "text/html": [
       "<div>\n",
       "<style scoped>\n",
       "    .dataframe tbody tr th:only-of-type {\n",
       "        vertical-align: middle;\n",
       "    }\n",
       "\n",
       "    .dataframe tbody tr th {\n",
       "        vertical-align: top;\n",
       "    }\n",
       "\n",
       "    .dataframe thead th {\n",
       "        text-align: right;\n",
       "    }\n",
       "</style>\n",
       "<table border=\"1\" class=\"dataframe\">\n",
       "  <thead>\n",
       "    <tr style=\"text-align: right;\">\n",
       "      <th></th>\n",
       "      <th>Unique_Team_ID</th>\n",
       "      <th>Date</th>\n",
       "      <th>TeamName</th>\n",
       "      <th>Match_ID</th>\n",
       "      <th>Season</th>\n",
       "      <th>HomeTeam</th>\n",
       "      <th>AwayTeam</th>\n",
       "      <th>FTHG</th>\n",
       "      <th>FTAG</th>\n",
       "      <th>FTR</th>\n",
       "    </tr>\n",
       "  </thead>\n",
       "  <tbody>\n",
       "    <tr>\n",
       "      <th>0</th>\n",
       "      <td>1</td>\n",
       "      <td>2012-03-31</td>\n",
       "      <td>Bayern Munich</td>\n",
       "      <td>1092</td>\n",
       "      <td>2011</td>\n",
       "      <td>Nurnberg</td>\n",
       "      <td>Bayern Munich</td>\n",
       "      <td>0</td>\n",
       "      <td>1</td>\n",
       "      <td>A</td>\n",
       "    </tr>\n",
       "    <tr>\n",
       "      <th>1</th>\n",
       "      <td>22</td>\n",
       "      <td>2012-03-31</td>\n",
       "      <td>Nurnberg</td>\n",
       "      <td>1092</td>\n",
       "      <td>2011</td>\n",
       "      <td>Nurnberg</td>\n",
       "      <td>Bayern Munich</td>\n",
       "      <td>0</td>\n",
       "      <td>1</td>\n",
       "      <td>A</td>\n",
       "    </tr>\n",
       "    <tr>\n",
       "      <th>2</th>\n",
       "      <td>1</td>\n",
       "      <td>2011-12-11</td>\n",
       "      <td>Bayern Munich</td>\n",
       "      <td>1093</td>\n",
       "      <td>2011</td>\n",
       "      <td>Stuttgart</td>\n",
       "      <td>Bayern Munich</td>\n",
       "      <td>1</td>\n",
       "      <td>2</td>\n",
       "      <td>A</td>\n",
       "    </tr>\n",
       "    <tr>\n",
       "      <th>3</th>\n",
       "      <td>17</td>\n",
       "      <td>2011-12-11</td>\n",
       "      <td>Stuttgart</td>\n",
       "      <td>1093</td>\n",
       "      <td>2011</td>\n",
       "      <td>Stuttgart</td>\n",
       "      <td>Bayern Munich</td>\n",
       "      <td>1</td>\n",
       "      <td>2</td>\n",
       "      <td>A</td>\n",
       "    </tr>\n",
       "    <tr>\n",
       "      <th>4</th>\n",
       "      <td>1</td>\n",
       "      <td>2011-08-13</td>\n",
       "      <td>Bayern Munich</td>\n",
       "      <td>1094</td>\n",
       "      <td>2011</td>\n",
       "      <td>Wolfsburg</td>\n",
       "      <td>Bayern Munich</td>\n",
       "      <td>0</td>\n",
       "      <td>1</td>\n",
       "      <td>A</td>\n",
       "    </tr>\n",
       "  </tbody>\n",
       "</table>\n",
       "</div>"
      ],
      "text/plain": [
       "   Unique_Team_ID        Date       TeamName  Match_ID  Season   HomeTeam  \\\n",
       "0               1  2012-03-31  Bayern Munich      1092    2011   Nurnberg   \n",
       "1              22  2012-03-31       Nurnberg      1092    2011   Nurnberg   \n",
       "2               1  2011-12-11  Bayern Munich      1093    2011  Stuttgart   \n",
       "3              17  2011-12-11      Stuttgart      1093    2011  Stuttgart   \n",
       "4               1  2011-08-13  Bayern Munich      1094    2011  Wolfsburg   \n",
       "\n",
       "        AwayTeam  FTHG  FTAG FTR  \n",
       "0  Bayern Munich     0     1   A  \n",
       "1  Bayern Munich     0     1   A  \n",
       "2  Bayern Munich     1     2   A  \n",
       "3  Bayern Munich     1     2   A  \n",
       "4  Bayern Munich     0     1   A  "
      ]
     },
     "execution_count": 2,
     "metadata": {},
     "output_type": "execute_result"
    }
   ],
   "source": [
    "c.execute(\"\"\"SELECT tm.Unique_Team_ID, m.Date, ut.TeamName, tm.Match_ID, m.Season, m.HomeTeam, m.AwayTeam, m.FTHG, m.FTAG, m.FTR \n",
    "             FROM Teams_in_Matches tm\n",
    "             JOIN Matches m ON m.Match_ID = tm.Match_ID\n",
    "             JOIN Unique_Teams ut ON tm.Unique_Team_ID = ut.Unique_Team_ID\n",
    "             WHERE m.Season = '2011';\"\"\")\n",
    "df = pd.DataFrame(c.fetchall())\n",
    "df.columns = [x[0] for x in c.description]\n",
    "df.head()"
   ]
  },
  {
   "cell_type": "code",
   "execution_count": 3,
   "metadata": {},
   "outputs": [],
   "source": [
    "df.drop(labels=['Unique_Team_ID', 'Match_ID', 'Season', 'TeamName'], inplace=True, axis=1)"
   ]
  },
  {
   "cell_type": "code",
   "execution_count": 4,
   "metadata": {},
   "outputs": [],
   "source": [
    "df['Date'] = pd.to_datetime(df.Date)\n",
    "df = df.sort_values(by=['Date', 'HomeTeam'])"
   ]
  },
  {
   "cell_type": "code",
   "execution_count": 5,
   "metadata": {},
   "outputs": [],
   "source": [
    "df = df.drop_duplicates()"
   ]
  },
  {
   "cell_type": "code",
   "execution_count": 6,
   "metadata": {},
   "outputs": [],
   "source": [
    "df.loc[df['FTR']=='H', \"Home_Win\"] = 1\n",
    "df[\"Home_Win\"] = df[\"Home_Win\"].fillna(0)\n",
    "df[\"Home_Win\"] = df['Home_Win'].astype(int)\n",
    "df.loc[df['FTR']=='A', \"Away_Win\"] = 1\n",
    "df[\"Away_Win\"] = df[\"Away_Win\"].fillna(0)\n",
    "df[\"Away_Win\"] = df['Away_Win'].astype(int)\n",
    "df.loc[df['FTR']=='D', \"Draw\"] = 1\n",
    "df[\"Draw\"] = df[\"Draw\"].fillna(0)\n",
    "df[\"Draw\"] = df['Draw'].astype(int)\n",
    "df.drop(labels=['FTR'], inplace=True, axis=1)"
   ]
  },
  {
   "cell_type": "code",
   "execution_count": 7,
   "metadata": {
    "scrolled": true
   },
   "outputs": [],
   "source": [
    "team_names = df['HomeTeam'].unique()"
   ]
  },
  {
   "cell_type": "code",
   "execution_count": 8,
   "metadata": {},
   "outputs": [],
   "source": [
    "team_names = pd.Series('team_names')"
   ]
  },
  {
   "cell_type": "code",
   "execution_count": 9,
   "metadata": {},
   "outputs": [],
   "source": [
    "total_goals = (df.groupby('HomeTeam')['FTHG'].sum()) + (df.groupby('AwayTeam')['FTAG'].sum())"
   ]
  },
  {
   "cell_type": "code",
   "execution_count": 10,
   "metadata": {
    "scrolled": true
   },
   "outputs": [],
   "source": [
    "total_wins = (df.groupby('HomeTeam')['Home_Win'].sum()) + (df.groupby('AwayTeam')['Away_Win'].sum())"
   ]
  },
  {
   "cell_type": "code",
   "execution_count": 11,
   "metadata": {},
   "outputs": [],
   "source": [
    "total_matches = (df['HomeTeam'].value_counts()) + (df['AwayTeam'].value_counts())"
   ]
  },
  {
   "cell_type": "code",
   "execution_count": 12,
   "metadata": {},
   "outputs": [],
   "source": [
    "total_draws = df.groupby('HomeTeam')['Draw'].sum() + df.groupby('AwayTeam')['Draw'].sum()"
   ]
  },
  {
   "cell_type": "code",
   "execution_count": 13,
   "metadata": {},
   "outputs": [],
   "source": [
    "total_losses = total_matches - (total_wins + total_draws)"
   ]
  },
  {
   "cell_type": "code",
   "execution_count": 14,
   "metadata": {},
   "outputs": [
    {
     "data": {
      "text/html": [
       "<div>\n",
       "<style scoped>\n",
       "    .dataframe tbody tr th:only-of-type {\n",
       "        vertical-align: middle;\n",
       "    }\n",
       "\n",
       "    .dataframe tbody tr th {\n",
       "        vertical-align: top;\n",
       "    }\n",
       "\n",
       "    .dataframe thead th {\n",
       "        text-align: right;\n",
       "    }\n",
       "</style>\n",
       "<table border=\"1\" class=\"dataframe\">\n",
       "  <thead>\n",
       "    <tr style=\"text-align: right;\">\n",
       "      <th></th>\n",
       "      <th>Total_Goals</th>\n",
       "      <th>Total_Wins</th>\n",
       "      <th>Total_Losses</th>\n",
       "    </tr>\n",
       "    <tr>\n",
       "      <th>Team</th>\n",
       "      <th></th>\n",
       "      <th></th>\n",
       "      <th></th>\n",
       "    </tr>\n",
       "  </thead>\n",
       "  <tbody>\n",
       "    <tr>\n",
       "      <th>Aachen</th>\n",
       "      <td>30</td>\n",
       "      <td>6</td>\n",
       "      <td>15</td>\n",
       "    </tr>\n",
       "    <tr>\n",
       "      <th>Arsenal</th>\n",
       "      <td>74</td>\n",
       "      <td>21</td>\n",
       "      <td>10</td>\n",
       "    </tr>\n",
       "    <tr>\n",
       "      <th>Aston Villa</th>\n",
       "      <td>37</td>\n",
       "      <td>7</td>\n",
       "      <td>14</td>\n",
       "    </tr>\n",
       "    <tr>\n",
       "      <th>Augsburg</th>\n",
       "      <td>36</td>\n",
       "      <td>8</td>\n",
       "      <td>12</td>\n",
       "    </tr>\n",
       "    <tr>\n",
       "      <th>Bayern Munich</th>\n",
       "      <td>77</td>\n",
       "      <td>23</td>\n",
       "      <td>7</td>\n",
       "    </tr>\n",
       "  </tbody>\n",
       "</table>\n",
       "</div>"
      ],
      "text/plain": [
       "               Total_Goals  Total_Wins  Total_Losses\n",
       "Team                                                \n",
       "Aachen                  30           6            15\n",
       "Arsenal                 74          21            10\n",
       "Aston Villa             37           7            14\n",
       "Augsburg                36           8            12\n",
       "Bayern Munich           77          23             7"
      ]
     },
     "execution_count": 14,
     "metadata": {},
     "output_type": "execute_result"
    }
   ],
   "source": [
    "df = pd.concat([total_goals, total_wins, total_losses], axis=1)\n",
    "df.columns = ['Total_Goals', 'Total_Wins', 'Total_Losses']\n",
    "df.index.names = ['Team']\n",
    "df.head()"
   ]
  },
  {
   "cell_type": "code",
   "execution_count": 15,
   "metadata": {},
   "outputs": [],
   "source": [
    "df['Total_Games'] = df['Total_Wins'] + df['Total_Losses']"
   ]
  },
  {
   "cell_type": "code",
   "execution_count": 16,
   "metadata": {},
   "outputs": [
    {
     "data": {
      "text/html": [
       "<div>\n",
       "<style scoped>\n",
       "    .dataframe tbody tr th:only-of-type {\n",
       "        vertical-align: middle;\n",
       "    }\n",
       "\n",
       "    .dataframe tbody tr th {\n",
       "        vertical-align: top;\n",
       "    }\n",
       "\n",
       "    .dataframe thead th {\n",
       "        text-align: right;\n",
       "    }\n",
       "</style>\n",
       "<table border=\"1\" class=\"dataframe\">\n",
       "  <thead>\n",
       "    <tr style=\"text-align: right;\">\n",
       "      <th></th>\n",
       "      <th>Total_Goals</th>\n",
       "      <th>Total_Wins</th>\n",
       "      <th>Total_Losses</th>\n",
       "      <th>Total_Games</th>\n",
       "    </tr>\n",
       "    <tr>\n",
       "      <th>Team</th>\n",
       "      <th></th>\n",
       "      <th></th>\n",
       "      <th></th>\n",
       "      <th></th>\n",
       "    </tr>\n",
       "  </thead>\n",
       "  <tbody>\n",
       "    <tr>\n",
       "      <th>Aachen</th>\n",
       "      <td>30</td>\n",
       "      <td>6</td>\n",
       "      <td>15</td>\n",
       "      <td>21</td>\n",
       "    </tr>\n",
       "    <tr>\n",
       "      <th>Arsenal</th>\n",
       "      <td>74</td>\n",
       "      <td>21</td>\n",
       "      <td>10</td>\n",
       "      <td>31</td>\n",
       "    </tr>\n",
       "    <tr>\n",
       "      <th>Aston Villa</th>\n",
       "      <td>37</td>\n",
       "      <td>7</td>\n",
       "      <td>14</td>\n",
       "      <td>21</td>\n",
       "    </tr>\n",
       "    <tr>\n",
       "      <th>Augsburg</th>\n",
       "      <td>36</td>\n",
       "      <td>8</td>\n",
       "      <td>12</td>\n",
       "      <td>20</td>\n",
       "    </tr>\n",
       "    <tr>\n",
       "      <th>Bayern Munich</th>\n",
       "      <td>77</td>\n",
       "      <td>23</td>\n",
       "      <td>7</td>\n",
       "      <td>30</td>\n",
       "    </tr>\n",
       "  </tbody>\n",
       "</table>\n",
       "</div>"
      ],
      "text/plain": [
       "               Total_Goals  Total_Wins  Total_Losses  Total_Games\n",
       "Team                                                             \n",
       "Aachen                  30           6            15           21\n",
       "Arsenal                 74          21            10           31\n",
       "Aston Villa             37           7            14           21\n",
       "Augsburg                36           8            12           20\n",
       "Bayern Munich           77          23             7           30"
      ]
     },
     "execution_count": 16,
     "metadata": {},
     "output_type": "execute_result"
    }
   ],
   "source": [
    "df.head()"
   ]
  },
  {
   "cell_type": "code",
   "execution_count": 17,
   "metadata": {},
   "outputs": [],
   "source": [
    "season = '2011'\n",
    "\n",
    "class Team_Getter():\n",
    "    def __init__(self, name, goals, wins, losses, games):\n",
    "        \n",
    "        self.name = name\n",
    "        self.goals = goals\n",
    "        self.wins = wins\n",
    "        self.losses = losses\n",
    "        self.games = games\n",
    "    \n",
    "    def info(self):\n",
    "        \n",
    "        return vars(self)"
   ]
  },
  {
   "cell_type": "code",
   "execution_count": 18,
   "metadata": {},
   "outputs": [
    {
     "data": {
      "text/html": [
       "<div>\n",
       "<style scoped>\n",
       "    .dataframe tbody tr th:only-of-type {\n",
       "        vertical-align: middle;\n",
       "    }\n",
       "\n",
       "    .dataframe tbody tr th {\n",
       "        vertical-align: top;\n",
       "    }\n",
       "\n",
       "    .dataframe thead th {\n",
       "        text-align: right;\n",
       "    }\n",
       "</style>\n",
       "<table border=\"1\" class=\"dataframe\">\n",
       "  <thead>\n",
       "    <tr style=\"text-align: right;\">\n",
       "      <th></th>\n",
       "      <th>Team</th>\n",
       "      <th>Total_Goals</th>\n",
       "      <th>Total_Wins</th>\n",
       "      <th>Total_Losses</th>\n",
       "      <th>Total_Games</th>\n",
       "    </tr>\n",
       "  </thead>\n",
       "  <tbody>\n",
       "    <tr>\n",
       "      <th>0</th>\n",
       "      <td>Aachen</td>\n",
       "      <td>30</td>\n",
       "      <td>6</td>\n",
       "      <td>15</td>\n",
       "      <td>21</td>\n",
       "    </tr>\n",
       "    <tr>\n",
       "      <th>1</th>\n",
       "      <td>Arsenal</td>\n",
       "      <td>74</td>\n",
       "      <td>21</td>\n",
       "      <td>10</td>\n",
       "      <td>31</td>\n",
       "    </tr>\n",
       "    <tr>\n",
       "      <th>2</th>\n",
       "      <td>Aston Villa</td>\n",
       "      <td>37</td>\n",
       "      <td>7</td>\n",
       "      <td>14</td>\n",
       "      <td>21</td>\n",
       "    </tr>\n",
       "    <tr>\n",
       "      <th>3</th>\n",
       "      <td>Augsburg</td>\n",
       "      <td>36</td>\n",
       "      <td>8</td>\n",
       "      <td>12</td>\n",
       "      <td>20</td>\n",
       "    </tr>\n",
       "    <tr>\n",
       "      <th>4</th>\n",
       "      <td>Bayern Munich</td>\n",
       "      <td>77</td>\n",
       "      <td>23</td>\n",
       "      <td>7</td>\n",
       "      <td>30</td>\n",
       "    </tr>\n",
       "  </tbody>\n",
       "</table>\n",
       "</div>"
      ],
      "text/plain": [
       "            Team  Total_Goals  Total_Wins  Total_Losses  Total_Games\n",
       "0         Aachen           30           6            15           21\n",
       "1        Arsenal           74          21            10           31\n",
       "2    Aston Villa           37           7            14           21\n",
       "3       Augsburg           36           8            12           20\n",
       "4  Bayern Munich           77          23             7           30"
      ]
     },
     "execution_count": 18,
     "metadata": {},
     "output_type": "execute_result"
    }
   ],
   "source": [
    "#df['Team'] = df.index\n",
    "df.reset_index(level=0, inplace=True)\n",
    "df.head()"
   ]
  },
  {
   "cell_type": "code",
   "execution_count": 19,
   "metadata": {},
   "outputs": [],
   "source": [
    "team_list = []\n",
    "\n",
    "for rows in df.index:\n",
    "    new_team = Team_Getter(df.iloc[rows]['Team'], \n",
    "                           df.iloc[rows]['Total_Goals'],\n",
    "                           df.iloc[rows]['Total_Wins'], \n",
    "                           df.iloc[rows]['Total_Losses'], \n",
    "                           df.iloc[rows]['Total_Games'])\n",
    "    team_list.append(new_team)"
   ]
  },
  {
   "cell_type": "code",
   "execution_count": 20,
   "metadata": {},
   "outputs": [
    {
     "name": "stdout",
     "output_type": "stream",
     "text": [
      "{'name': 'Aachen', 'goals': 30, 'wins': 6, 'losses': 15, 'games': 21}\n",
      "{'name': 'Arsenal', 'goals': 74, 'wins': 21, 'losses': 10, 'games': 31}\n",
      "{'name': 'Aston Villa', 'goals': 37, 'wins': 7, 'losses': 14, 'games': 21}\n",
      "{'name': 'Augsburg', 'goals': 36, 'wins': 8, 'losses': 12, 'games': 20}\n",
      "{'name': 'Bayern Munich', 'goals': 77, 'wins': 23, 'losses': 7, 'games': 30}\n",
      "{'name': 'Blackburn', 'goals': 48, 'wins': 8, 'losses': 23, 'games': 31}\n",
      "{'name': 'Bochum', 'goals': 41, 'wins': 10, 'losses': 17, 'games': 27}\n",
      "{'name': 'Bolton', 'goals': 46, 'wins': 10, 'losses': 22, 'games': 32}\n",
      "{'name': 'Braunschweig', 'goals': 37, 'wins': 10, 'losses': 9, 'games': 19}\n",
      "{'name': 'Chelsea', 'goals': 65, 'wins': 18, 'losses': 10, 'games': 28}\n",
      "{'name': 'Cottbus', 'goals': 30, 'wins': 8, 'losses': 15, 'games': 23}\n",
      "{'name': 'Dortmund', 'goals': 80, 'wins': 25, 'losses': 3, 'games': 28}\n",
      "{'name': 'Dresden', 'goals': 50, 'wins': 12, 'losses': 13, 'games': 25}\n",
      "{'name': 'Duisburg', 'goals': 42, 'wins': 10, 'losses': 15, 'games': 25}\n",
      "{'name': 'Ein Frankfurt', 'goals': 76, 'wins': 20, 'losses': 6, 'games': 26}\n",
      "{'name': 'Erzgebirge Aue', 'goals': 31, 'wins': 8, 'losses': 15, 'games': 23}\n",
      "{'name': 'Everton', 'goals': 50, 'wins': 15, 'losses': 12, 'games': 27}\n",
      "{'name': 'FC Koln', 'goals': 39, 'wins': 8, 'losses': 20, 'games': 28}\n",
      "{'name': 'Fortuna Dusseldorf', 'goals': 64, 'wins': 16, 'losses': 4, 'games': 20}\n",
      "{'name': 'Frankfurt FSV', 'goals': 43, 'wins': 7, 'losses': 13, 'games': 20}\n",
      "{'name': 'Freiburg', 'goals': 45, 'wins': 10, 'losses': 14, 'games': 24}\n",
      "{'name': 'Fulham', 'goals': 48, 'wins': 14, 'losses': 14, 'games': 28}\n",
      "{'name': 'Greuther Furth', 'goals': 73, 'wins': 20, 'losses': 4, 'games': 24}\n",
      "{'name': 'Hamburg', 'goals': 35, 'wins': 8, 'losses': 14, 'games': 22}\n",
      "{'name': 'Hannover', 'goals': 41, 'wins': 12, 'losses': 10, 'games': 22}\n",
      "{'name': 'Hansa Rostock', 'goals': 34, 'wins': 5, 'losses': 17, 'games': 22}\n",
      "{'name': 'Hertha', 'goals': 38, 'wins': 7, 'losses': 17, 'games': 24}\n",
      "{'name': 'Hoffenheim', 'goals': 41, 'wins': 10, 'losses': 13, 'games': 23}\n",
      "{'name': 'Ingolstadt', 'goals': 43, 'wins': 8, 'losses': 13, 'games': 21}\n",
      "{'name': 'Kaiserslautern', 'goals': 24, 'wins': 4, 'losses': 19, 'games': 23}\n",
      "{'name': 'Karlsruhe', 'goals': 34, 'wins': 9, 'losses': 19, 'games': 28}\n",
      "{'name': 'Leverkusen', 'goals': 52, 'wins': 15, 'losses': 10, 'games': 25}\n",
      "{'name': 'Liverpool', 'goals': 47, 'wins': 14, 'losses': 14, 'games': 28}\n",
      "{'name': \"M'gladbach\", 'goals': 49, 'wins': 17, 'losses': 8, 'games': 25}\n",
      "{'name': 'Mainz', 'goals': 47, 'wins': 9, 'losses': 13, 'games': 22}\n",
      "{'name': 'Man City', 'goals': 93, 'wins': 28, 'losses': 5, 'games': 33}\n",
      "{'name': 'Man United', 'goals': 89, 'wins': 28, 'losses': 5, 'games': 33}\n",
      "{'name': 'Munich 1860', 'goals': 62, 'wins': 17, 'losses': 11, 'games': 28}\n",
      "{'name': 'Newcastle', 'goals': 56, 'wins': 19, 'losses': 11, 'games': 30}\n",
      "{'name': 'Norwich', 'goals': 52, 'wins': 12, 'losses': 15, 'games': 27}\n",
      "{'name': 'Nurnberg', 'goals': 38, 'wins': 12, 'losses': 16, 'games': 28}\n",
      "{'name': 'Paderborn', 'goals': 51, 'wins': 17, 'losses': 7, 'games': 24}\n",
      "{'name': 'QPR', 'goals': 43, 'wins': 10, 'losses': 21, 'games': 31}\n",
      "{'name': 'Schalke 04', 'goals': 74, 'wins': 20, 'losses': 10, 'games': 30}\n",
      "{'name': 'St Pauli', 'goals': 59, 'wins': 18, 'losses': 8, 'games': 26}\n",
      "{'name': 'Stoke', 'goals': 36, 'wins': 11, 'losses': 15, 'games': 26}\n",
      "{'name': 'Stuttgart', 'goals': 63, 'wins': 15, 'losses': 11, 'games': 26}\n",
      "{'name': 'Sunderland', 'goals': 45, 'wins': 11, 'losses': 15, 'games': 26}\n",
      "{'name': 'Swansea', 'goals': 44, 'wins': 12, 'losses': 15, 'games': 27}\n",
      "{'name': 'Tottenham', 'goals': 66, 'wins': 20, 'losses': 9, 'games': 29}\n",
      "{'name': 'Union Berlin', 'goals': 55, 'wins': 14, 'losses': 14, 'games': 28}\n",
      "{'name': 'Werder Bremen', 'goals': 49, 'wins': 11, 'losses': 14, 'games': 25}\n",
      "{'name': 'West Brom', 'goals': 45, 'wins': 13, 'losses': 17, 'games': 30}\n",
      "{'name': 'Wigan', 'goals': 42, 'wins': 11, 'losses': 17, 'games': 28}\n",
      "{'name': 'Wolfsburg', 'goals': 47, 'wins': 13, 'losses': 16, 'games': 29}\n",
      "{'name': 'Wolves', 'goals': 40, 'wins': 5, 'losses': 23, 'games': 28}\n"
     ]
    }
   ],
   "source": [
    "for team in team_list:\n",
    "    print(team.info())"
   ]
  },
  {
   "cell_type": "code",
   "execution_count": 91,
   "metadata": {},
   "outputs": [
    {
     "name": "stdout",
     "output_type": "stream",
     "text": [
      "56\n"
     ]
    }
   ],
   "source": [
    "print(len(team_list))"
   ]
  },
  {
   "cell_type": "code",
   "execution_count": 84,
   "metadata": {},
   "outputs": [
    {
     "data": {
      "text/plain": [
       "__main__.Team_Getter"
      ]
     },
     "execution_count": 84,
     "metadata": {},
     "output_type": "execute_result"
    }
   ],
   "source": [
    "type(new_team)"
   ]
  },
  {
   "cell_type": "code",
   "execution_count": 35,
   "metadata": {},
   "outputs": [],
   "source": [
    "wins_dict = dict(zip(df.index, df.Total_Wins))\n",
    "losses_dict = dict(zip(df.index, df.Total_Losses))\n",
    "team_list = list(df.index)"
   ]
  },
  {
   "cell_type": "code",
   "execution_count": 38,
   "metadata": {},
   "outputs": [
    {
     "name": "stdout",
     "output_type": "stream",
     "text": [
      "Aachen:6\n",
      "Arsenal:21\n",
      "Aston Villa:7\n",
      "Augsburg:8\n",
      "Bayern Munich:23\n",
      "Blackburn:8\n",
      "Bochum:10\n",
      "Bolton:10\n",
      "Braunschweig:10\n",
      "Chelsea:18\n",
      "Cottbus:8\n",
      "Dortmund:25\n",
      "Dresden:12\n",
      "Duisburg:10\n",
      "Ein Frankfurt:20\n",
      "Erzgebirge Aue:8\n",
      "Everton:15\n",
      "FC Koln:8\n",
      "Fortuna Dusseldorf:16\n",
      "Frankfurt FSV:7\n",
      "Freiburg:10\n",
      "Fulham:14\n",
      "Greuther Furth:20\n",
      "Hamburg:8\n",
      "Hannover:12\n",
      "Hansa Rostock:5\n",
      "Hertha:7\n",
      "Hoffenheim:10\n",
      "Ingolstadt:8\n",
      "Kaiserslautern:4\n",
      "Karlsruhe:9\n",
      "Leverkusen:15\n",
      "Liverpool:14\n",
      "M'gladbach:17\n",
      "Mainz:9\n",
      "Man City:28\n",
      "Man United:28\n",
      "Munich 1860:17\n",
      "Newcastle:19\n",
      "Norwich:12\n",
      "Nurnberg:12\n",
      "Paderborn:17\n",
      "QPR:10\n",
      "Schalke 04:20\n",
      "St Pauli:18\n",
      "Stoke:11\n",
      "Stuttgart:15\n",
      "Sunderland:11\n",
      "Swansea:12\n",
      "Tottenham:20\n",
      "Union Berlin:14\n",
      "Werder Bremen:11\n",
      "West Brom:13\n",
      "Wigan:11\n",
      "Wolfsburg:13\n",
      "Wolves:5\n"
     ]
    }
   ],
   "source": [
    "for team, wins in wins_dict.items():\n",
    "    print(key + ':' + str(value))"
   ]
  },
  {
   "cell_type": "code",
   "execution_count": 22,
   "metadata": {
    "scrolled": true
   },
   "outputs": [
    {
     "data": {
      "image/png": "[encoded data removed]",
      "text/plain": [
       "<Figure size 1080x720 with 1 Axes>"
      ]
     },
     "metadata": {
      "needs_background": "light"
     },
     "output_type": "display_data"
    }
   ],
   "source": [
    "import seaborn as sns\n",
    "import matplotlib.pyplot as plt\n",
    "sns.set()\n",
    "\n",
    "%matplotlib inline\n",
    "\n",
    "df[['Total_Wins', 'Total_Losses']].plot(kind='barh', figsize=(15,10))\n",
    "   \n",
    "plt.show()"
   ]
  },
  {
   "cell_type": "markdown",
   "metadata": {},
   "source": [
    "# Summary\n",
    "\n",
    "In this lab, we dug deep and used everything we've learned so far about python programming, databases, HTTP requests and API calls to ETL data from a SQL database into a MongoDB instance!"
   ]
  }
 ],
 "metadata": {
  "kernelspec": {
   "display_name": "Python 3",
   "language": "python",
   "name": "python3"
  },
  "language_info": {
   "codemirror_mode": {
    "name": "ipython",
    "version": 3
   },
   "file_extension": ".py",
   "mimetype": "text/x-python",
   "name": "python",
   "nbconvert_exporter": "python",
   "pygments_lexer": "ipython3",
   "version": "3.6.6"
  }
 },
 "nbformat": 4,
 "nbformat_minor": 2
}
